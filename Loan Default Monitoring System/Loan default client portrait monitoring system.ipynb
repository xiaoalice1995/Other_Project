{
 "cells": [
  {
   "cell_type": "markdown",
   "metadata": {
    "colab_type": "text",
    "id": "iau9DTUUzGjo"
   },
   "source": [
    "# A loan default client portrait monitoring system based on decision tree and Logistic regression model\n",
    "## Loan Default with Decision Tree\n",
    "Banks are concerned about the client's inability to repay the loan left the bank facing losses. They need to understand what characteristics users are at risk of defaulting on their loans.\n",
    "### About the dataset\n",
    "We will use a loan default dataset for predicting. This is a historical dataset where each row represents one client. The data is relatively easy to understand. Typically, strengthening risk control when lending is the best way to reduce the number of clients defaulting on loans, so the focus of this analysis is to predict who is 'risky' for the bank.\n",
    "\n",
    "The dataset includes information about:\n",
    "\n",
    "\n",
    "*   Income - monthly income of borrower; \n",
    "*   Balance - the amount of money deposited in the bank of the borrower; \n",
    "\n",
    "*   Student - if the borrower is a student;\n",
    "*   Default - if the borrower defaults on a loan \n",
    "\n",
    "Information shows above is stored in the file 'LoanDefault.csv'"
   ]
  },
  {
   "cell_type": "markdown",
   "metadata": {
    "colab_type": "text",
    "id": "X2WJmHB3t7XZ"
   },
   "source": [
    "Import Needed Packages"
   ]
  },
  {
   "cell_type": "code",
   "execution_count": 3,
   "metadata": {
    "colab": {},
    "colab_type": "code",
    "id": "Q53uUgIIt7Xc"
   },
   "outputs": [],
   "source": [
    "import matplotlib.pyplot as plt\n",
    "import pandas as pd\n",
    "import pylab as pl\n",
    "import numpy as np\n",
    "%matplotlib inline\n",
    "from sklearn.tree import DecisionTreeClassifier\n",
    "from sklearn import preprocessing\n",
    "from sklearn.model_selection import train_test_split\n",
    "from sklearn import metrics\n",
    "from sklearn.externals.six import StringIO\n",
    "import pydotplus\n",
    "import matplotlib.image as mpimg\n",
    "from sklearn import tree\n",
    "from sklearn.metrics import confusion_matrix "
   ]
  },
  {
   "cell_type": "markdown",
   "metadata": {
    "colab_type": "text",
    "id": "oVpQkl8W3m64"
   },
   "source": [
    "### Load Data From CSV File"
   ]
  },
  {
   "cell_type": "code",
   "execution_count": 172,
   "metadata": {
    "colab": {
     "base_uri": "https://localhost:8080/",
     "height": 202
    },
    "colab_type": "code",
    "id": "Jyj6Yfg5t7Xq",
    "outputId": "52d72f51-6e9b-4674-bd3c-f5ffa926efbf"
   },
   "outputs": [
    {
     "data": {
      "text/html": [
       "<div>\n",
       "<style scoped>\n",
       "    .dataframe tbody tr th:only-of-type {\n",
       "        vertical-align: middle;\n",
       "    }\n",
       "\n",
       "    .dataframe tbody tr th {\n",
       "        vertical-align: top;\n",
       "    }\n",
       "\n",
       "    .dataframe thead th {\n",
       "        text-align: right;\n",
       "    }\n",
       "</style>\n",
       "<table border=\"1\" class=\"dataframe\">\n",
       "  <thead>\n",
       "    <tr style=\"text-align: right;\">\n",
       "      <th></th>\n",
       "      <th>default</th>\n",
       "      <th>student</th>\n",
       "      <th>balance</th>\n",
       "      <th>income</th>\n",
       "    </tr>\n",
       "  </thead>\n",
       "  <tbody>\n",
       "    <tr>\n",
       "      <th>0</th>\n",
       "      <td>No</td>\n",
       "      <td>No</td>\n",
       "      <td>729.526495</td>\n",
       "      <td>44361.625074</td>\n",
       "    </tr>\n",
       "    <tr>\n",
       "      <th>1</th>\n",
       "      <td>No</td>\n",
       "      <td>Yes</td>\n",
       "      <td>817.180407</td>\n",
       "      <td>12106.134700</td>\n",
       "    </tr>\n",
       "    <tr>\n",
       "      <th>2</th>\n",
       "      <td>No</td>\n",
       "      <td>No</td>\n",
       "      <td>1073.549164</td>\n",
       "      <td>31767.138947</td>\n",
       "    </tr>\n",
       "    <tr>\n",
       "      <th>3</th>\n",
       "      <td>No</td>\n",
       "      <td>No</td>\n",
       "      <td>529.250605</td>\n",
       "      <td>35704.493935</td>\n",
       "    </tr>\n",
       "    <tr>\n",
       "      <th>4</th>\n",
       "      <td>No</td>\n",
       "      <td>No</td>\n",
       "      <td>785.655883</td>\n",
       "      <td>38463.495879</td>\n",
       "    </tr>\n",
       "  </tbody>\n",
       "</table>\n",
       "</div>"
      ],
      "text/plain": [
       "  default student      balance        income\n",
       "0      No      No   729.526495  44361.625074\n",
       "1      No     Yes   817.180407  12106.134700\n",
       "2      No      No  1073.549164  31767.138947\n",
       "3      No      No   529.250605  35704.493935\n",
       "4      No      No   785.655883  38463.495879"
      ]
     },
     "execution_count": 172,
     "metadata": {},
     "output_type": "execute_result"
    }
   ],
   "source": [
    "df = pd.read_csv(\"LoanDefault.csv\")\n",
    "\n",
    "# take a look at the dataset\n",
    "df.head()"
   ]
  },
  {
   "cell_type": "markdown",
   "metadata": {},
   "source": [
    "### Pre-processing"
   ]
  },
  {
   "cell_type": "markdown",
   "metadata": {},
   "source": [
    "Before starting analysis and modeling, wrangling data by identifying if there is any missing value and checking if there is any wrong data by get a statistical summary of each column."
   ]
  },
  {
   "cell_type": "code",
   "execution_count": 173,
   "metadata": {
    "colab": {
     "base_uri": "https://localhost:8080/",
     "height": 381
    },
    "colab_type": "code",
    "id": "4qT9hg5kmqKD",
    "outputId": "eb49d31c-1e5a-46f2-b060-cec1d5cd3430"
   },
   "outputs": [
    {
     "name": "stdout",
     "output_type": "stream",
     "text": [
      "default    0\n",
      "student    0\n",
      "balance    0\n",
      "income     0\n",
      "dtype: int64\n"
     ]
    },
    {
     "data": {
      "text/html": [
       "<div>\n",
       "<style scoped>\n",
       "    .dataframe tbody tr th:only-of-type {\n",
       "        vertical-align: middle;\n",
       "    }\n",
       "\n",
       "    .dataframe tbody tr th {\n",
       "        vertical-align: top;\n",
       "    }\n",
       "\n",
       "    .dataframe thead th {\n",
       "        text-align: right;\n",
       "    }\n",
       "</style>\n",
       "<table border=\"1\" class=\"dataframe\">\n",
       "  <thead>\n",
       "    <tr style=\"text-align: right;\">\n",
       "      <th></th>\n",
       "      <th>balance</th>\n",
       "      <th>income</th>\n",
       "    </tr>\n",
       "  </thead>\n",
       "  <tbody>\n",
       "    <tr>\n",
       "      <th>count</th>\n",
       "      <td>10000.000000</td>\n",
       "      <td>10000.000000</td>\n",
       "    </tr>\n",
       "    <tr>\n",
       "      <th>mean</th>\n",
       "      <td>835.374886</td>\n",
       "      <td>33516.981876</td>\n",
       "    </tr>\n",
       "    <tr>\n",
       "      <th>std</th>\n",
       "      <td>483.714985</td>\n",
       "      <td>13336.639563</td>\n",
       "    </tr>\n",
       "    <tr>\n",
       "      <th>min</th>\n",
       "      <td>0.000000</td>\n",
       "      <td>771.967729</td>\n",
       "    </tr>\n",
       "    <tr>\n",
       "      <th>25%</th>\n",
       "      <td>481.731105</td>\n",
       "      <td>21340.462903</td>\n",
       "    </tr>\n",
       "    <tr>\n",
       "      <th>50%</th>\n",
       "      <td>823.636973</td>\n",
       "      <td>34552.644802</td>\n",
       "    </tr>\n",
       "    <tr>\n",
       "      <th>75%</th>\n",
       "      <td>1166.308386</td>\n",
       "      <td>43807.729272</td>\n",
       "    </tr>\n",
       "    <tr>\n",
       "      <th>max</th>\n",
       "      <td>2654.322576</td>\n",
       "      <td>73554.233495</td>\n",
       "    </tr>\n",
       "  </tbody>\n",
       "</table>\n",
       "</div>"
      ],
      "text/plain": [
       "            balance        income\n",
       "count  10000.000000  10000.000000\n",
       "mean     835.374886  33516.981876\n",
       "std      483.714985  13336.639563\n",
       "min        0.000000    771.967729\n",
       "25%      481.731105  21340.462903\n",
       "50%      823.636973  34552.644802\n",
       "75%     1166.308386  43807.729272\n",
       "max     2654.322576  73554.233495"
      ]
     },
     "execution_count": 173,
     "metadata": {},
     "output_type": "execute_result"
    }
   ],
   "source": [
    "print(df[df.isnull()==True].count())\n",
    "df.describe()"
   ]
  },
  {
   "cell_type": "markdown",
   "metadata": {
    "colab_type": "text",
    "id": "Zdi_3LvDt7X0"
   },
   "source": [
    "It turns out that this dataframe has no missing values and the values in four columns are normal (i.e.no negative numbers in column 'balance' and 'income'). Now we can define X, and y for our dataset.\n",
    "\n",
    "Using df as the LoanDefault.csv data read by pandas, declare the following variables:\n",
    "\n",
    "    X as the Feature Matrix (data)\n",
    "    y as the response vector (target)\n"
   ]
  },
  {
   "cell_type": "code",
   "execution_count": 11,
   "metadata": {
    "colab": {
     "base_uri": "https://localhost:8080/",
     "height": 104
    },
    "colab_type": "code",
    "id": "NGAgaht7t7X2",
    "outputId": "5a80bc0a-596c-4893-d36e-06f793ae0fdc"
   },
   "outputs": [
    {
     "data": {
      "text/plain": [
       "array([['No', 729.5264952072861, 44361.62507426691],\n",
       "       ['Yes', 817.180406555498, 12106.1347003149],\n",
       "       ['No', 1073.54916401173, 31767.1389473999],\n",
       "       ['No', 529.250604745278, 35704.4939350781],\n",
       "       ['No', 785.655882930501, 38463.4958787229]], dtype=object)"
      ]
     },
     "execution_count": 11,
     "metadata": {
      "tags": []
     },
     "output_type": "execute_result"
    }
   ],
   "source": [
    "X = df[['student', 'balance', 'income']].values\n",
    "X[0:5]"
   ]
  },
  {
   "cell_type": "markdown",
   "metadata": {
    "colab_type": "text",
    "id": "jBboUGqdt7YA"
   },
   "source": [
    "Some features in this dataset are categorical such as 'student'. Since Sklearn Decision Trees do not handle categorical variables, we can convert these features to numerical values."
   ]
  },
  {
   "cell_type": "code",
   "execution_count": 12,
   "metadata": {
    "colab": {
     "base_uri": "https://localhost:8080/",
     "height": 104
    },
    "colab_type": "code",
    "id": "GIrXQsbZt7YB",
    "outputId": "7c2adc6b-ce4a-43c2-ce59-32589b50fd12"
   },
   "outputs": [
    {
     "data": {
      "text/plain": [
       "array([[0, 729.5264952072861, 44361.62507426691],\n",
       "       [1, 817.180406555498, 12106.1347003149],\n",
       "       [0, 1073.54916401173, 31767.1389473999],\n",
       "       [0, 529.250604745278, 35704.4939350781],\n",
       "       [0, 785.655882930501, 38463.4958787229]], dtype=object)"
      ]
     },
     "execution_count": 12,
     "metadata": {
      "tags": []
     },
     "output_type": "execute_result"
    }
   ],
   "source": [
    "le_student = preprocessing.LabelEncoder()\n",
    "le_student.fit(['No','Yes'])\n",
    "X[:,0] = le_student.transform(X[:,0]) \n",
    "\n",
    "X[0:5]"
   ]
  },
  {
   "cell_type": "markdown",
   "metadata": {
    "colab_type": "text",
    "id": "4mQd2Gdzt7YG"
   },
   "source": [
    "Now we can fill the target variable."
   ]
  },
  {
   "cell_type": "code",
   "execution_count": 13,
   "metadata": {
    "colab": {
     "base_uri": "https://localhost:8080/",
     "height": 121
    },
    "colab_type": "code",
    "id": "PX5ElRBCt7YI",
    "outputId": "7ec01091-7a7a-4093-de03-f7c87607ce3a"
   },
   "outputs": [
    {
     "data": {
      "text/plain": [
       "0    No\n",
       "1    No\n",
       "2    No\n",
       "3    No\n",
       "4    No\n",
       "Name: default, dtype: object"
      ]
     },
     "execution_count": 13,
     "metadata": {
      "tags": []
     },
     "output_type": "execute_result"
    }
   ],
   "source": [
    "y = df[\"default\"]\n",
    "y[0:5]"
   ]
  },
  {
   "cell_type": "markdown",
   "metadata": {
    "colab_type": "text",
    "id": "TbZtdz0pt7Ye"
   },
   "source": [
    "### Setting up the Decision Tree\n",
    "We will be using train/test split on our decision tree. Import train_test_split from sklearn.cross_validation."
   ]
  },
  {
   "cell_type": "markdown",
   "metadata": {
    "colab_type": "text",
    "id": "CJDn5rKYt7YT"
   },
   "source": [
    "#### Train Test Split\n",
    "\n",
    "For our model having a high, out-of-sample accuracy, we use an evaluation approach called Train/Test Split. Our train_test_split will return 4 different parameters. We will name them:\n",
    "X_trainset, X_testset, y_trainset, y_testset\n",
    "\n",
    "The train_test_split will need the parameters:\n",
    "X, y, test_size=0.3, and random_state=4.\n",
    "\n",
    "The X and y are the arrays required before the split, the test_size represents the ratio of the testing dataset, and the random_state ensures that we obtain the same splits."
   ]
  },
  {
   "cell_type": "code",
   "execution_count": 14,
   "metadata": {
    "colab": {
     "base_uri": "https://localhost:8080/",
     "height": 52
    },
    "colab_type": "code",
    "id": "n8TPvCzTt7YV",
    "outputId": "4bff3598-fa69-49af-e3a9-637359bde7aa"
   },
   "outputs": [
    {
     "name": "stdout",
     "output_type": "stream",
     "text": [
      "Train set: (7000, 3) (7000,)\n",
      "Test set: (3000, 3) (3000,)\n"
     ]
    }
   ],
   "source": [
    "X_train, X_test, y_train, y_test = train_test_split( X, y, test_size=0.3, random_state=4)\n",
    "print ('Train set:', X_train.shape,  y_train.shape)\n",
    "print ('Test set:', X_test.shape,  y_test.shape)"
   ]
  },
  {
   "cell_type": "markdown",
   "metadata": {
    "colab_type": "text",
    "id": "-fPg6zyVt7Yg"
   },
   "source": [
    "#### Modeling\n",
    "We will first create an instance of the DecisionTreeClassifier called drugTree.\n",
    "Inside of the classifier, specify criterion=\"entropy\" so we can see the information gain of each node."
   ]
  },
  {
   "cell_type": "code",
   "execution_count": 15,
   "metadata": {
    "colab": {
     "base_uri": "https://localhost:8080/",
     "height": 121
    },
    "colab_type": "code",
    "id": "-pP213Bxt7Yi",
    "outputId": "40f619b4-3c35-4e9f-a783-dcab2fa87210"
   },
   "outputs": [
    {
     "data": {
      "text/plain": [
       "DecisionTreeClassifier(ccp_alpha=0.0, class_weight=None, criterion='entropy',\n",
       "                       max_depth=4, max_features=None, max_leaf_nodes=None,\n",
       "                       min_impurity_decrease=0.0, min_impurity_split=None,\n",
       "                       min_samples_leaf=1, min_samples_split=2,\n",
       "                       min_weight_fraction_leaf=0.0, presort='deprecated',\n",
       "                       random_state=None, splitter='best')"
      ]
     },
     "execution_count": 15,
     "metadata": {
      "tags": []
     },
     "output_type": "execute_result"
    }
   ],
   "source": [
    "defaultTree = DecisionTreeClassifier(criterion=\"entropy\", max_depth = 4)\n",
    "defaultTree # it shows the default parameters"
   ]
  },
  {
   "cell_type": "markdown",
   "metadata": {
    "colab_type": "text",
    "id": "zFhzqL7Vt7Yo"
   },
   "source": [
    "Next, we will fit the data with the training feature matrix X_trainset and training response vector y_trainset"
   ]
  },
  {
   "cell_type": "code",
   "execution_count": 16,
   "metadata": {
    "colab": {
     "base_uri": "https://localhost:8080/",
     "height": 121
    },
    "colab_type": "code",
    "id": "O2zOELC_t7Yp",
    "outputId": "a6b00000-6ca9-4f7d-8828-509b27056308"
   },
   "outputs": [
    {
     "data": {
      "text/plain": [
       "DecisionTreeClassifier(ccp_alpha=0.0, class_weight=None, criterion='entropy',\n",
       "                       max_depth=4, max_features=None, max_leaf_nodes=None,\n",
       "                       min_impurity_decrease=0.0, min_impurity_split=None,\n",
       "                       min_samples_leaf=1, min_samples_split=2,\n",
       "                       min_weight_fraction_leaf=0.0, presort='deprecated',\n",
       "                       random_state=None, splitter='best')"
      ]
     },
     "execution_count": 16,
     "metadata": {
      "tags": []
     },
     "output_type": "execute_result"
    }
   ],
   "source": [
    "defaultTree.fit(X_train,y_train)"
   ]
  },
  {
   "cell_type": "markdown",
   "metadata": {
    "colab_type": "text",
    "id": "IGKkVtFit7Y0"
   },
   "source": [
    "### Prediction\n",
    "Let's make some predictions on the testing dataset and store it into a variable called predTree."
   ]
  },
  {
   "cell_type": "code",
   "execution_count": 17,
   "metadata": {
    "colab": {},
    "colab_type": "code",
    "id": "kOnEymtXt7Y2"
   },
   "outputs": [],
   "source": [
    "predTree = defaultTree.predict(X_test)"
   ]
  },
  {
   "cell_type": "markdown",
   "metadata": {
    "colab_type": "text",
    "id": "OWIrUBjgt7ZE"
   },
   "source": [
    "You can print out predTree and y_testset if you want to visually compare the prediction to the actual values."
   ]
  },
  {
   "cell_type": "code",
   "execution_count": 18,
   "metadata": {
    "colab": {
     "base_uri": "https://localhost:8080/",
     "height": 139
    },
    "colab_type": "code",
    "id": "8Nc6hGDMt7ZF",
    "outputId": "8c4253ae-0b5d-47f1-8b9e-e451dab4b47b"
   },
   "outputs": [
    {
     "name": "stdout",
     "output_type": "stream",
     "text": [
      "['No' 'No' 'No' 'No' 'No']\n",
      "1603    No\n",
      "8713    No\n",
      "4561    No\n",
      "6600    No\n",
      "2558    No\n",
      "Name: default, dtype: object\n"
     ]
    }
   ],
   "source": [
    "print (predTree [0:5])\n",
    "print (y_test [0:5])"
   ]
  },
  {
   "cell_type": "markdown",
   "metadata": {
    "colab_type": "text",
    "id": "9CTXCk8et7ZQ"
   },
   "source": [
    "### Evaluation\n",
    "Next, let's import metrics from sklearn and check the accuracy of our model."
   ]
  },
  {
   "cell_type": "code",
   "execution_count": 19,
   "metadata": {
    "colab": {
     "base_uri": "https://localhost:8080/",
     "height": 35
    },
    "colab_type": "code",
    "id": "RaRuykFPt7ZR",
    "outputId": "e92a7e5b-7f7a-4bf7-91d5-50cf42bd6e24"
   },
   "outputs": [
    {
     "name": "stdout",
     "output_type": "stream",
     "text": [
      "DecisionTrees's Accuracy:  0.973\n"
     ]
    }
   ],
   "source": [
    "print(\"DecisionTrees's Accuracy: \", metrics.accuracy_score(y_test, predTree))"
   ]
  },
  {
   "cell_type": "markdown",
   "metadata": {
    "colab_type": "text",
    "id": "JxjHjsqwt7ZW"
   },
   "source": [
    "Accuracy classification score computes subset accuracy: the set of labels predicted for a sample must exactly match the corresponding set of labels in y_true.\n",
    "\n",
    "In multilabel classification, the function returns the subset accuracy. If the entire set of predicted labels for a sample strictly match with the true set of labels, then the subset accuracy is 1.0; otherwise it is 0.0.\n",
    "\n",
    "---------------------------------------------------------------------------------------------------------------------------\n",
    "\n",
    "Since the depth of decision tree affect the accuracy, traverse depth from 1 to 9 and computing the accracies, then select the most accurate depth."
   ]
  },
  {
   "cell_type": "code",
   "execution_count": 20,
   "metadata": {
    "colab": {
     "base_uri": "https://localhost:8080/",
     "height": 173
    },
    "colab_type": "code",
    "id": "eAucUeJht7ZX",
    "outputId": "6afb1eaa-aba5-40df-8cd7-c5a26117835b"
   },
   "outputs": [
    {
     "name": "stdout",
     "output_type": "stream",
     "text": [
      "Depth: 1 -> DecisionTrees's Accuracy:  0.9666666666666667\n",
      "Depth: 2 -> DecisionTrees's Accuracy:  0.9723333333333334\n",
      "Depth: 3 -> DecisionTrees's Accuracy:  0.9736666666666667\n",
      "Depth: 4 -> DecisionTrees's Accuracy:  0.973\n",
      "Depth: 5 -> DecisionTrees's Accuracy:  0.973\n",
      "Depth: 6 -> DecisionTrees's Accuracy:  0.9733333333333334\n",
      "Depth: 7 -> DecisionTrees's Accuracy:  0.9686666666666667\n",
      "Depth: 8 -> DecisionTrees's Accuracy:  0.9686666666666667\n",
      "Depth: 9 -> DecisionTrees's Accuracy:  0.968\n"
     ]
    }
   ],
   "source": [
    "for i in range(1,10):\n",
    "    defaultTree = DecisionTreeClassifier(criterion=\"entropy\", max_depth = i)\n",
    "    defaultTree.fit(X_train,y_train)\n",
    "    predTree = defaultTree.predict(X_test)\n",
    "    print(\"Depth:\", i, \"-> DecisionTrees's Accuracy: \", metrics.accuracy_score(y_test, predTree))"
   ]
  },
  {
   "cell_type": "markdown",
   "metadata": {
    "colab_type": "text",
    "id": "DGVd26sRt7Zf"
   },
   "source": [
    "According to the output, now we can choose the optimal depth, that is, 3, for model."
   ]
  },
  {
   "cell_type": "code",
   "execution_count": 21,
   "metadata": {
    "colab": {
     "base_uri": "https://localhost:8080/",
     "height": 121
    },
    "colab_type": "code",
    "id": "kTfdGjngt7Zg",
    "outputId": "6ad56331-593b-45b8-ae1c-4c79e9774140"
   },
   "outputs": [
    {
     "data": {
      "text/plain": [
       "DecisionTreeClassifier(ccp_alpha=0.0, class_weight=None, criterion='entropy',\n",
       "                       max_depth=3, max_features=None, max_leaf_nodes=None,\n",
       "                       min_impurity_decrease=0.0, min_impurity_split=None,\n",
       "                       min_samples_leaf=1, min_samples_split=2,\n",
       "                       min_weight_fraction_leaf=0.0, presort='deprecated',\n",
       "                       random_state=None, splitter='best')"
      ]
     },
     "execution_count": 21,
     "metadata": {
      "tags": []
     },
     "output_type": "execute_result"
    }
   ],
   "source": [
    "defaultTree = DecisionTreeClassifier(criterion=\"entropy\", max_depth = 3)\n",
    "defaultTree # it shows the default parameters"
   ]
  },
  {
   "cell_type": "code",
   "execution_count": 22,
   "metadata": {
    "colab": {
     "base_uri": "https://localhost:8080/",
     "height": 121
    },
    "colab_type": "code",
    "id": "fwSF7XJKt7Zr",
    "outputId": "0cfd98b7-378c-4886-9176-ecebb2d269b4"
   },
   "outputs": [
    {
     "data": {
      "text/plain": [
       "DecisionTreeClassifier(ccp_alpha=0.0, class_weight=None, criterion='entropy',\n",
       "                       max_depth=3, max_features=None, max_leaf_nodes=None,\n",
       "                       min_impurity_decrease=0.0, min_impurity_split=None,\n",
       "                       min_samples_leaf=1, min_samples_split=2,\n",
       "                       min_weight_fraction_leaf=0.0, presort='deprecated',\n",
       "                       random_state=None, splitter='best')"
      ]
     },
     "execution_count": 22,
     "metadata": {
      "tags": []
     },
     "output_type": "execute_result"
    }
   ],
   "source": [
    "defaultTree.fit(X_train,y_train)"
   ]
  },
  {
   "cell_type": "code",
   "execution_count": 23,
   "metadata": {
    "colab": {
     "base_uri": "https://localhost:8080/",
     "height": 35
    },
    "colab_type": "code",
    "id": "N3ibDClxt7Zy",
    "outputId": "3c8154e0-753f-433d-dcb3-868132b45ea1"
   },
   "outputs": [
    {
     "data": {
      "text/plain": [
       "array(['No', 'No', 'No', ..., 'No', 'No', 'No'], dtype=object)"
      ]
     },
     "execution_count": 23,
     "metadata": {
      "tags": []
     },
     "output_type": "execute_result"
    }
   ],
   "source": [
    "predTree = defaultTree.predict(X_test)\n",
    "predTree"
   ]
  },
  {
   "cell_type": "code",
   "execution_count": 24,
   "metadata": {
    "colab": {
     "base_uri": "https://localhost:8080/",
     "height": 225
    },
    "colab_type": "code",
    "id": "2zP_dZ-yt7Z3",
    "outputId": "f5769f4a-7c56-4d10-add4-4a56de2a7499"
   },
   "outputs": [
    {
     "data": {
      "text/plain": [
       "1603    No\n",
       "8713    No\n",
       "4561    No\n",
       "6600    No\n",
       "2558    No\n",
       "        ..\n",
       "3458    No\n",
       "682     No\n",
       "3128    No\n",
       "8271    No\n",
       "1031    No\n",
       "Name: default, Length: 3000, dtype: object"
      ]
     },
     "execution_count": 24,
     "metadata": {
      "tags": []
     },
     "output_type": "execute_result"
    }
   ],
   "source": [
    "y_test"
   ]
  },
  {
   "cell_type": "markdown",
   "metadata": {
    "colab_type": "text",
    "id": "dVZD0-oBt7aC"
   },
   "source": [
    "### Visualization\n",
    "Lets visualize the tree"
   ]
  },
  {
   "cell_type": "code",
   "execution_count": 27,
   "metadata": {
    "colab": {
     "base_uri": "https://localhost:8080/",
     "height": 390
    },
    "colab_type": "code",
    "id": "--Cg3mmqt7aa",
    "outputId": "3db1c4a3-9565-43b3-c458-f94639dcd509"
   },
   "outputs": [
    {
     "data": {
      "text/plain": [
       "<matplotlib.image.AxesImage at 0x7f0250b17f98>"
      ]
     },
     "execution_count": 27,
     "metadata": {
      "tags": []
     },
     "output_type": "execute_result"
    },
    {
     "data": {
      "image/png": "[encoded data removed]",
      "text/plain": [
       "<Figure size 7200x14400 with 1 Axes>"
      ]
     },
     "metadata": {
      "needs_background": "light",
      "tags": []
     },
     "output_type": "display_data"
    }
   ],
   "source": [
    "dot_data = StringIO()\n",
    "filename = \"defaulttree.png\"\n",
    "featureNames = df.columns[1:4]\n",
    "targetNames = df[\"default\"].unique().tolist()\n",
    "out=tree.export_graphviz(defaultTree,feature_names=featureNames, out_file=dot_data, class_names= np.unique(y_train), filled=True, special_characters=True,rotate=False)  \n",
    "graph = pydotplus.graph_from_dot_data(dot_data.getvalue())  \n",
    "graph.write_png(filename)\n",
    "img = mpimg.imread(filename)\n",
    "plt.figure(figsize=(100, 200))\n",
    "plt.imshow(img,interpolation='nearest')"
   ]
  },
  {
   "cell_type": "markdown",
   "metadata": {
    "colab_type": "text",
    "id": "TG9PEwpct7bs"
   },
   "source": [
    "### Evaluation (Confusion Matrix)"
   ]
  },
  {
   "cell_type": "code",
   "execution_count": 30,
   "metadata": {
    "colab": {
     "base_uri": "https://localhost:8080/",
     "height": 254
    },
    "colab_type": "code",
    "id": "snROdmAKtt0P",
    "outputId": "b384f991-3a8b-4ccf-9f80-b4acc396829b"
   },
   "outputs": [
    {
     "data": {
      "image/png": "[encoded data removed]",
      "text/plain": [
       "<Figure size 288x288 with 2 Axes>"
      ]
     },
     "metadata": {
      "needs_background": "light",
      "tags": []
     },
     "output_type": "display_data"
    }
   ],
   "source": [
    "def cm_plot(y, yp):\n",
    " \n",
    "  cm = confusion_matrix(y, yp) \n",
    "  \n",
    "  plt.matshow(cm, cmap=plt.cm.Greens) \n",
    "  plt.colorbar() \n",
    "  \n",
    "  for x in range(len(cm)): \n",
    "    for y in range(len(cm)):\n",
    "      plt.annotate(cm[x,y], xy=(x, y), horizontalalignment='center', verticalalignment='center')\n",
    "  \n",
    "  plt.ylabel('True label') \n",
    "  plt.xlabel('Predicted label') \n",
    "  return plt\n",
    " \n",
    "cm_plot(y_test, defaultTree.predict(X_test)).show()"
   ]
  },
  {
   "cell_type": "markdown",
   "metadata": {
    "colab_type": "text",
    "id": "FVYP3FABt7cH"
   },
   "source": [
    "The first row is for borrowers whose actual default value in test set is 0. As you can calculate, out of 3000 borrowers, the default value of 2963 of them is 0. And out of these 2963, the classifier correctly predicted 2892 of them as 0, and 71 of them as 1.\n",
    "\n",
    "It means, for 2892 borrowers, the actual default value were 0 in test set, and classifier also correctly predicted those as 0. However, while the actual label of 71 borrowers were 0, the classifier predicted those as 1, which is a good job in predicting the borrowers with default value 0. \n",
    "\n",
    "What about the borrowers with default value 1? Lets look at the second row. It looks like there were 37 borrowers whom their default value were 1. The classifier correctly predicted 29 of them as 1, and 8 of them wrongly as 1, which is not very good. We can consider it as error of the model for second row."
   ]
  },
  {
   "cell_type": "code",
   "execution_count": 35,
   "metadata": {
    "colab": {
     "base_uri": "https://localhost:8080/",
     "height": 173
    },
    "colab_type": "code",
    "id": "5IpmGwTwt7cJ",
    "outputId": "8dff66c2-9502-4b20-f5a9-11a52cca2dcc"
   },
   "outputs": [
    {
     "name": "stdout",
     "output_type": "stream",
     "text": [
      "              precision    recall  f1-score   support\n",
      "\n",
      "          No       0.98      1.00      0.99      2900\n",
      "         Yes       0.78      0.29      0.42       100\n",
      "\n",
      "    accuracy                           0.97      3000\n",
      "   macro avg       0.88      0.64      0.70      3000\n",
      "weighted avg       0.97      0.97      0.97      3000\n",
      "\n"
     ]
    }
   ],
   "source": [
    "print (classification_report(y_test, defaultTree.predict(X_test)))\n"
   ]
  },
  {
   "cell_type": "markdown",
   "metadata": {
    "colab_type": "text",
    "id": "Oj-7lAilt7cR"
   },
   "source": [
    "Based on the count of each section, we can calculate precision and recall of each label:\n",
    "\n",
    "Precision is a measure of the accuracy provided that a class label has been predicted. It is defined by: precision = TP / (TP + FP)\n",
    "\n",
    "Recall is true positive rate. It is defined as: Recall = TP / (TP + FN)\n",
    "\n",
    "So, we can calculate precision and recall of each class."
   ]
  },
  {
   "cell_type": "markdown",
   "metadata": {
    "colab_type": "text",
    "id": "514QeyV92Vua"
   },
   "source": [
    "## Logistic Regression"
   ]
  },
  {
   "cell_type": "markdown",
   "metadata": {
    "colab_type": "text",
    "id": "5WKwE8lmzSIe"
   },
   "source": [
    "### The difference between Linear and Logistic Regression"
   ]
  },
  {
   "cell_type": "markdown",
   "metadata": {
    "colab_type": "text",
    "id": "mBxlyjrxt7aj"
   },
   "source": [
    "While Linear Regression is suited for estimating continuous values (e.g. estimating house price), it is not the best tool for predicting the class of an observed data point. In order to estimate the class of a data point, we need some sort of guidance on what would be the most probable class for that data point. For this, we use Logistic Regression.\n",
    "\n",
    "Recall linear regression:\n",
    "\n",
    "Linear regression finds a function that relates a continuous dependent variable, y, to some predictors (independent variables  x1 ,  x2 , etc.). For example, Simple linear regression assumes a function of the form:\n",
    "\n",
    "> y=θ0+θ1x1+θ2x2+⋯\n",
    "\n",
    "and finds the values of parameters  θ0,θ1,θ2 , etc, where the term  θ0  is the \"intercept\". It can be generally shown as:\n",
    "\n",
    "> ℎθ(𝑥)=θTX\n",
    " \n",
    "Logistic Regression is a variation of Linear Regression, useful when the observed dependent variable, y, is categorical. It produces a formula that predicts the probability of the class label as a function of the independent variables.\n",
    "\n",
    "Logistic regression fits a special s-shaped curve by taking the linear regression and transforming the numeric estimate into a probability with the following function, which is called sigmoid function 𝜎:\n",
    "\n",
    "> ℎθ(𝑥)=σ(θTX)=e(θ0+θ1x1+θ2x2+...)1+e(θ0+θ1x1+θ2x2+⋯)\n",
    " \n",
    "Or:\n",
    "\n",
    "> ProbabilityOfaClass1=P(Y=1|X)=σ(θTX)=eθTX1+eθTX\n",
    " \n",
    "In this equation, θTX is the regression result (the sum of the variables weighted by the coefficients), exp is the exponential function and σ(θTX) is the sigmoid or logistic function, also called logistic curve. It is a common \"S\" shape (sigmoid curve).\n",
    "\n",
    "So, briefly, Logistic Regression passes the input through the logistic/sigmoid but then treats the result as a probability. The objective of Logistic Regression algorithm, is to find the best parameters θ, for ℎθ(𝑥) = σ(θTX) , in such a way that the model best predicts the class of each case."
   ]
  },
  {
   "cell_type": "markdown",
   "metadata": {
    "colab_type": "text",
    "id": "iau9DTUUzGjo"
   },
   "source": [
    "### Loan Default with Logistic Regression"
   ]
  },
  {
   "cell_type": "markdown",
   "metadata": {
    "colab_type": "text",
    "id": "naTuE4G5zb0h"
   },
   "source": [
    "Banks are concerned about the client's inability to repay the loan left the bank facing losses. They need to understand what characteristics users are at risk of defaulting on their loans.\n"
   ]
  },
  {
   "cell_type": "markdown",
   "metadata": {
    "colab_type": "text",
    "id": "-BZCWZi335fH"
   },
   "source": [
    "#### About the dataset"
   ]
  },
  {
   "cell_type": "markdown",
   "metadata": {
    "colab_type": "text",
    "id": "wdQR0Dc304Rk"
   },
   "source": [
    "We will use a loan default dataset for predicting. This is a historical dataset where each row represents one client. The data is relatively easy to understand. Typically, strengthening risk control when lending is the best way to reduce the number of clients defaulting on loans, so the focus of this analysis is to predict who is 'risky' for the bank.\n",
    "\n",
    "The dataset includes information about:\n",
    "\n",
    "\n",
    "*   Income - monthly income of borrower; \n",
    "*   Balance - the amount of money deposited in the bank of the borrower; \n",
    "\n",
    "*   Student - if the borrower is a student;\n",
    "*   Default - if the borrower defaults on a loan \n",
    "\n",
    "Information shows above is stored in the file 'LoanDefault.csv'"
   ]
  },
  {
   "cell_type": "markdown",
   "metadata": {},
   "source": [
    "Firstly, import needed packages."
   ]
  },
  {
   "cell_type": "code",
   "execution_count": null,
   "metadata": {},
   "outputs": [],
   "source": [
    "import statsmodels.api as sm\n",
    "import pandas as pd\n",
    "import pylab as pl\n",
    "import numpy as np\n",
    "import scipy.optimize as opt\n",
    "from sklearn import preprocessing\n",
    "%matplotlib inline \n",
    "import matplotlib.pyplot as plt\n",
    "from sklearn.model_selection import train_test_split\n",
    "from sklearn.linear_model import LogisticRegression\n",
    "from sklearn.metrics import classification_report, confusion_matrix\n",
    "import itertools"
   ]
  },
  {
   "cell_type": "markdown",
   "metadata": {
    "colab_type": "text",
    "id": "oVpQkl8W3m64"
   },
   "source": [
    "#### Load Data From CSV File"
   ]
  },
  {
   "cell_type": "code",
   "execution_count": 139,
   "metadata": {
    "colab": {
     "base_uri": "https://localhost:8080/",
     "height": 202
    },
    "colab_type": "code",
    "id": "a7ap7bWbt7ak",
    "outputId": "cd718715-443d-4968-cd84-7d2435598cd8"
   },
   "outputs": [
    {
     "data": {
      "text/html": [
       "<div>\n",
       "<style scoped>\n",
       "    .dataframe tbody tr th:only-of-type {\n",
       "        vertical-align: middle;\n",
       "    }\n",
       "\n",
       "    .dataframe tbody tr th {\n",
       "        vertical-align: top;\n",
       "    }\n",
       "\n",
       "    .dataframe thead th {\n",
       "        text-align: right;\n",
       "    }\n",
       "</style>\n",
       "<table border=\"1\" class=\"dataframe\">\n",
       "  <thead>\n",
       "    <tr style=\"text-align: right;\">\n",
       "      <th></th>\n",
       "      <th>default</th>\n",
       "      <th>student</th>\n",
       "      <th>balance</th>\n",
       "      <th>income</th>\n",
       "    </tr>\n",
       "  </thead>\n",
       "  <tbody>\n",
       "    <tr>\n",
       "      <th>0</th>\n",
       "      <td>No</td>\n",
       "      <td>No</td>\n",
       "      <td>729.526495</td>\n",
       "      <td>44361.625074</td>\n",
       "    </tr>\n",
       "    <tr>\n",
       "      <th>1</th>\n",
       "      <td>No</td>\n",
       "      <td>Yes</td>\n",
       "      <td>817.180407</td>\n",
       "      <td>12106.134700</td>\n",
       "    </tr>\n",
       "    <tr>\n",
       "      <th>2</th>\n",
       "      <td>No</td>\n",
       "      <td>No</td>\n",
       "      <td>1073.549164</td>\n",
       "      <td>31767.138947</td>\n",
       "    </tr>\n",
       "    <tr>\n",
       "      <th>3</th>\n",
       "      <td>No</td>\n",
       "      <td>No</td>\n",
       "      <td>529.250605</td>\n",
       "      <td>35704.493935</td>\n",
       "    </tr>\n",
       "    <tr>\n",
       "      <th>4</th>\n",
       "      <td>No</td>\n",
       "      <td>No</td>\n",
       "      <td>785.655883</td>\n",
       "      <td>38463.495879</td>\n",
       "    </tr>\n",
       "  </tbody>\n",
       "</table>\n",
       "</div>"
      ],
      "text/plain": [
       "  default student      balance        income\n",
       "0      No      No   729.526495  44361.625074\n",
       "1      No     Yes   817.180407  12106.134700\n",
       "2      No      No  1073.549164  31767.138947\n",
       "3      No      No   529.250605  35704.493935\n",
       "4      No      No   785.655883  38463.495879"
      ]
     },
     "execution_count": 139,
     "metadata": {},
     "output_type": "execute_result"
    }
   ],
   "source": [
    "df = pd.read_csv(\"LoanDefault.csv\")\n",
    "\n",
    "# take a look at the dataset\n",
    "df.head()"
   ]
  },
  {
   "cell_type": "markdown",
   "metadata": {
    "colab_type": "text",
    "id": "zgi9vyWI4bqB"
   },
   "source": [
    "#### Data pre-processing and selection"
   ]
  },
  {
   "cell_type": "markdown",
   "metadata": {
    "colab_type": "text",
    "id": "pmmjO3GE5aXN"
   },
   "source": [
    "As dataframe shows, some features in this dataset are categorical such as 'student' or 'default'. We can convert these features to numerical values. pandas.get_dummies() Convert categorical variable into dummy/indicator variables and select useful features for modeling."
   ]
  },
  {
   "cell_type": "code",
   "execution_count": 140,
   "metadata": {
    "colab": {
     "base_uri": "https://localhost:8080/",
     "height": 415
    },
    "colab_type": "code",
    "id": "l32YWmMsh39y",
    "outputId": "b1230caf-557c-4dd2-cf59-6992d76664f8"
   },
   "outputs": [
    {
     "data": {
      "text/html": [
       "<div>\n",
       "<style scoped>\n",
       "    .dataframe tbody tr th:only-of-type {\n",
       "        vertical-align: middle;\n",
       "    }\n",
       "\n",
       "    .dataframe tbody tr th {\n",
       "        vertical-align: top;\n",
       "    }\n",
       "\n",
       "    .dataframe thead th {\n",
       "        text-align: right;\n",
       "    }\n",
       "</style>\n",
       "<table border=\"1\" class=\"dataframe\">\n",
       "  <thead>\n",
       "    <tr style=\"text-align: right;\">\n",
       "      <th></th>\n",
       "      <th>balance</th>\n",
       "      <th>income</th>\n",
       "      <th>default_Yes</th>\n",
       "      <th>student_Yes</th>\n",
       "    </tr>\n",
       "  </thead>\n",
       "  <tbody>\n",
       "    <tr>\n",
       "      <th>0</th>\n",
       "      <td>729.526495</td>\n",
       "      <td>44361.625074</td>\n",
       "      <td>0</td>\n",
       "      <td>0</td>\n",
       "    </tr>\n",
       "    <tr>\n",
       "      <th>1</th>\n",
       "      <td>817.180407</td>\n",
       "      <td>12106.134700</td>\n",
       "      <td>0</td>\n",
       "      <td>1</td>\n",
       "    </tr>\n",
       "    <tr>\n",
       "      <th>2</th>\n",
       "      <td>1073.549164</td>\n",
       "      <td>31767.138947</td>\n",
       "      <td>0</td>\n",
       "      <td>0</td>\n",
       "    </tr>\n",
       "    <tr>\n",
       "      <th>3</th>\n",
       "      <td>529.250605</td>\n",
       "      <td>35704.493935</td>\n",
       "      <td>0</td>\n",
       "      <td>0</td>\n",
       "    </tr>\n",
       "    <tr>\n",
       "      <th>4</th>\n",
       "      <td>785.655883</td>\n",
       "      <td>38463.495879</td>\n",
       "      <td>0</td>\n",
       "      <td>0</td>\n",
       "    </tr>\n",
       "    <tr>\n",
       "      <th>5</th>\n",
       "      <td>919.588530</td>\n",
       "      <td>7491.558572</td>\n",
       "      <td>0</td>\n",
       "      <td>1</td>\n",
       "    </tr>\n",
       "    <tr>\n",
       "      <th>6</th>\n",
       "      <td>825.513331</td>\n",
       "      <td>24905.226578</td>\n",
       "      <td>0</td>\n",
       "      <td>0</td>\n",
       "    </tr>\n",
       "    <tr>\n",
       "      <th>7</th>\n",
       "      <td>808.667504</td>\n",
       "      <td>17600.451344</td>\n",
       "      <td>0</td>\n",
       "      <td>1</td>\n",
       "    </tr>\n",
       "    <tr>\n",
       "      <th>8</th>\n",
       "      <td>1161.057854</td>\n",
       "      <td>37468.529288</td>\n",
       "      <td>0</td>\n",
       "      <td>0</td>\n",
       "    </tr>\n",
       "    <tr>\n",
       "      <th>9</th>\n",
       "      <td>0.000000</td>\n",
       "      <td>29275.268293</td>\n",
       "      <td>0</td>\n",
       "      <td>0</td>\n",
       "    </tr>\n",
       "    <tr>\n",
       "      <th>10</th>\n",
       "      <td>0.000000</td>\n",
       "      <td>21871.073089</td>\n",
       "      <td>0</td>\n",
       "      <td>1</td>\n",
       "    </tr>\n",
       "    <tr>\n",
       "      <th>11</th>\n",
       "      <td>1220.583753</td>\n",
       "      <td>13268.562221</td>\n",
       "      <td>0</td>\n",
       "      <td>1</td>\n",
       "    </tr>\n",
       "    <tr>\n",
       "      <th>12</th>\n",
       "      <td>237.045114</td>\n",
       "      <td>28251.695345</td>\n",
       "      <td>0</td>\n",
       "      <td>0</td>\n",
       "    </tr>\n",
       "    <tr>\n",
       "      <th>13</th>\n",
       "      <td>606.742343</td>\n",
       "      <td>44994.555849</td>\n",
       "      <td>0</td>\n",
       "      <td>0</td>\n",
       "    </tr>\n",
       "    <tr>\n",
       "      <th>14</th>\n",
       "      <td>1112.968401</td>\n",
       "      <td>23810.174050</td>\n",
       "      <td>0</td>\n",
       "      <td>0</td>\n",
       "    </tr>\n",
       "    <tr>\n",
       "      <th>15</th>\n",
       "      <td>286.232560</td>\n",
       "      <td>45042.413036</td>\n",
       "      <td>0</td>\n",
       "      <td>0</td>\n",
       "    </tr>\n",
       "    <tr>\n",
       "      <th>16</th>\n",
       "      <td>0.000000</td>\n",
       "      <td>50265.312354</td>\n",
       "      <td>0</td>\n",
       "      <td>0</td>\n",
       "    </tr>\n",
       "    <tr>\n",
       "      <th>17</th>\n",
       "      <td>527.540184</td>\n",
       "      <td>17636.539617</td>\n",
       "      <td>0</td>\n",
       "      <td>1</td>\n",
       "    </tr>\n",
       "    <tr>\n",
       "      <th>18</th>\n",
       "      <td>485.936864</td>\n",
       "      <td>61566.106118</td>\n",
       "      <td>0</td>\n",
       "      <td>0</td>\n",
       "    </tr>\n",
       "    <tr>\n",
       "      <th>19</th>\n",
       "      <td>1095.072735</td>\n",
       "      <td>26464.631389</td>\n",
       "      <td>0</td>\n",
       "      <td>0</td>\n",
       "    </tr>\n",
       "    <tr>\n",
       "      <th>20</th>\n",
       "      <td>228.952550</td>\n",
       "      <td>50500.182198</td>\n",
       "      <td>0</td>\n",
       "      <td>0</td>\n",
       "    </tr>\n",
       "    <tr>\n",
       "      <th>21</th>\n",
       "      <td>954.261793</td>\n",
       "      <td>32457.509075</td>\n",
       "      <td>0</td>\n",
       "      <td>0</td>\n",
       "    </tr>\n",
       "    <tr>\n",
       "      <th>22</th>\n",
       "      <td>1055.956605</td>\n",
       "      <td>51317.883082</td>\n",
       "      <td>0</td>\n",
       "      <td>0</td>\n",
       "    </tr>\n",
       "    <tr>\n",
       "      <th>23</th>\n",
       "      <td>641.984389</td>\n",
       "      <td>30466.103257</td>\n",
       "      <td>0</td>\n",
       "      <td>0</td>\n",
       "    </tr>\n",
       "    <tr>\n",
       "      <th>24</th>\n",
       "      <td>773.211725</td>\n",
       "      <td>34353.314305</td>\n",
       "      <td>0</td>\n",
       "      <td>0</td>\n",
       "    </tr>\n",
       "    <tr>\n",
       "      <th>25</th>\n",
       "      <td>855.008523</td>\n",
       "      <td>25211.332161</td>\n",
       "      <td>0</td>\n",
       "      <td>0</td>\n",
       "    </tr>\n",
       "    <tr>\n",
       "      <th>26</th>\n",
       "      <td>642.999739</td>\n",
       "      <td>41473.511801</td>\n",
       "      <td>0</td>\n",
       "      <td>0</td>\n",
       "    </tr>\n",
       "    <tr>\n",
       "      <th>27</th>\n",
       "      <td>1454.863272</td>\n",
       "      <td>32189.094952</td>\n",
       "      <td>0</td>\n",
       "      <td>0</td>\n",
       "    </tr>\n",
       "    <tr>\n",
       "      <th>28</th>\n",
       "      <td>615.704277</td>\n",
       "      <td>39376.394619</td>\n",
       "      <td>0</td>\n",
       "      <td>0</td>\n",
       "    </tr>\n",
       "    <tr>\n",
       "      <th>29</th>\n",
       "      <td>1119.569353</td>\n",
       "      <td>16556.070205</td>\n",
       "      <td>0</td>\n",
       "      <td>1</td>\n",
       "    </tr>\n",
       "    <tr>\n",
       "      <th>...</th>\n",
       "      <td>...</td>\n",
       "      <td>...</td>\n",
       "      <td>...</td>\n",
       "      <td>...</td>\n",
       "    </tr>\n",
       "    <tr>\n",
       "      <th>9970</th>\n",
       "      <td>1294.500408</td>\n",
       "      <td>25687.326050</td>\n",
       "      <td>0</td>\n",
       "      <td>1</td>\n",
       "    </tr>\n",
       "    <tr>\n",
       "      <th>9971</th>\n",
       "      <td>180.620128</td>\n",
       "      <td>20975.560495</td>\n",
       "      <td>0</td>\n",
       "      <td>1</td>\n",
       "    </tr>\n",
       "    <tr>\n",
       "      <th>9972</th>\n",
       "      <td>755.432801</td>\n",
       "      <td>14455.865365</td>\n",
       "      <td>0</td>\n",
       "      <td>0</td>\n",
       "    </tr>\n",
       "    <tr>\n",
       "      <th>9973</th>\n",
       "      <td>876.119027</td>\n",
       "      <td>37668.366788</td>\n",
       "      <td>0</td>\n",
       "      <td>0</td>\n",
       "    </tr>\n",
       "    <tr>\n",
       "      <th>9974</th>\n",
       "      <td>933.332025</td>\n",
       "      <td>26051.398320</td>\n",
       "      <td>0</td>\n",
       "      <td>1</td>\n",
       "    </tr>\n",
       "    <tr>\n",
       "      <th>9975</th>\n",
       "      <td>908.315934</td>\n",
       "      <td>21287.942487</td>\n",
       "      <td>0</td>\n",
       "      <td>0</td>\n",
       "    </tr>\n",
       "    <tr>\n",
       "      <th>9976</th>\n",
       "      <td>218.417559</td>\n",
       "      <td>25401.133121</td>\n",
       "      <td>0</td>\n",
       "      <td>0</td>\n",
       "    </tr>\n",
       "    <tr>\n",
       "      <th>9977</th>\n",
       "      <td>915.439827</td>\n",
       "      <td>16624.339111</td>\n",
       "      <td>0</td>\n",
       "      <td>1</td>\n",
       "    </tr>\n",
       "    <tr>\n",
       "      <th>9978</th>\n",
       "      <td>2202.462395</td>\n",
       "      <td>47287.257108</td>\n",
       "      <td>1</td>\n",
       "      <td>0</td>\n",
       "    </tr>\n",
       "    <tr>\n",
       "      <th>9979</th>\n",
       "      <td>173.249172</td>\n",
       "      <td>30697.245062</td>\n",
       "      <td>0</td>\n",
       "      <td>0</td>\n",
       "    </tr>\n",
       "    <tr>\n",
       "      <th>9980</th>\n",
       "      <td>770.015741</td>\n",
       "      <td>13684.789952</td>\n",
       "      <td>0</td>\n",
       "      <td>1</td>\n",
       "    </tr>\n",
       "    <tr>\n",
       "      <th>9981</th>\n",
       "      <td>739.418018</td>\n",
       "      <td>40656.951448</td>\n",
       "      <td>0</td>\n",
       "      <td>0</td>\n",
       "    </tr>\n",
       "    <tr>\n",
       "      <th>9982</th>\n",
       "      <td>623.526119</td>\n",
       "      <td>59441.309981</td>\n",
       "      <td>0</td>\n",
       "      <td>0</td>\n",
       "    </tr>\n",
       "    <tr>\n",
       "      <th>9983</th>\n",
       "      <td>506.625454</td>\n",
       "      <td>49861.003411</td>\n",
       "      <td>0</td>\n",
       "      <td>0</td>\n",
       "    </tr>\n",
       "    <tr>\n",
       "      <th>9984</th>\n",
       "      <td>875.241640</td>\n",
       "      <td>52861.744197</td>\n",
       "      <td>0</td>\n",
       "      <td>0</td>\n",
       "    </tr>\n",
       "    <tr>\n",
       "      <th>9985</th>\n",
       "      <td>842.949429</td>\n",
       "      <td>39957.127855</td>\n",
       "      <td>0</td>\n",
       "      <td>0</td>\n",
       "    </tr>\n",
       "    <tr>\n",
       "      <th>9986</th>\n",
       "      <td>401.332674</td>\n",
       "      <td>15332.017833</td>\n",
       "      <td>0</td>\n",
       "      <td>1</td>\n",
       "    </tr>\n",
       "    <tr>\n",
       "      <th>9987</th>\n",
       "      <td>1092.906583</td>\n",
       "      <td>45479.466985</td>\n",
       "      <td>0</td>\n",
       "      <td>0</td>\n",
       "    </tr>\n",
       "    <tr>\n",
       "      <th>9988</th>\n",
       "      <td>0.000000</td>\n",
       "      <td>41740.686597</td>\n",
       "      <td>0</td>\n",
       "      <td>0</td>\n",
       "    </tr>\n",
       "    <tr>\n",
       "      <th>9989</th>\n",
       "      <td>999.281112</td>\n",
       "      <td>20013.350644</td>\n",
       "      <td>0</td>\n",
       "      <td>1</td>\n",
       "    </tr>\n",
       "    <tr>\n",
       "      <th>9990</th>\n",
       "      <td>372.379239</td>\n",
       "      <td>25374.899085</td>\n",
       "      <td>0</td>\n",
       "      <td>0</td>\n",
       "    </tr>\n",
       "    <tr>\n",
       "      <th>9991</th>\n",
       "      <td>658.799558</td>\n",
       "      <td>54802.078221</td>\n",
       "      <td>0</td>\n",
       "      <td>0</td>\n",
       "    </tr>\n",
       "    <tr>\n",
       "      <th>9992</th>\n",
       "      <td>1111.647317</td>\n",
       "      <td>45490.682463</td>\n",
       "      <td>0</td>\n",
       "      <td>0</td>\n",
       "    </tr>\n",
       "    <tr>\n",
       "      <th>9993</th>\n",
       "      <td>938.836241</td>\n",
       "      <td>56633.448744</td>\n",
       "      <td>0</td>\n",
       "      <td>0</td>\n",
       "    </tr>\n",
       "    <tr>\n",
       "      <th>9994</th>\n",
       "      <td>172.412987</td>\n",
       "      <td>14955.941689</td>\n",
       "      <td>0</td>\n",
       "      <td>1</td>\n",
       "    </tr>\n",
       "    <tr>\n",
       "      <th>9995</th>\n",
       "      <td>711.555020</td>\n",
       "      <td>52992.378914</td>\n",
       "      <td>0</td>\n",
       "      <td>0</td>\n",
       "    </tr>\n",
       "    <tr>\n",
       "      <th>9996</th>\n",
       "      <td>757.962918</td>\n",
       "      <td>19660.721768</td>\n",
       "      <td>0</td>\n",
       "      <td>0</td>\n",
       "    </tr>\n",
       "    <tr>\n",
       "      <th>9997</th>\n",
       "      <td>845.411989</td>\n",
       "      <td>58636.156984</td>\n",
       "      <td>0</td>\n",
       "      <td>0</td>\n",
       "    </tr>\n",
       "    <tr>\n",
       "      <th>9998</th>\n",
       "      <td>1569.009053</td>\n",
       "      <td>36669.112365</td>\n",
       "      <td>0</td>\n",
       "      <td>0</td>\n",
       "    </tr>\n",
       "    <tr>\n",
       "      <th>9999</th>\n",
       "      <td>200.922183</td>\n",
       "      <td>16862.952321</td>\n",
       "      <td>0</td>\n",
       "      <td>1</td>\n",
       "    </tr>\n",
       "  </tbody>\n",
       "</table>\n",
       "<p>10000 rows × 4 columns</p>\n",
       "</div>"
      ],
      "text/plain": [
       "          balance        income  default_Yes  student_Yes\n",
       "0      729.526495  44361.625074            0            0\n",
       "1      817.180407  12106.134700            0            1\n",
       "2     1073.549164  31767.138947            0            0\n",
       "3      529.250605  35704.493935            0            0\n",
       "4      785.655883  38463.495879            0            0\n",
       "5      919.588530   7491.558572            0            1\n",
       "6      825.513331  24905.226578            0            0\n",
       "7      808.667504  17600.451344            0            1\n",
       "8     1161.057854  37468.529288            0            0\n",
       "9        0.000000  29275.268293            0            0\n",
       "10       0.000000  21871.073089            0            1\n",
       "11    1220.583753  13268.562221            0            1\n",
       "12     237.045114  28251.695345            0            0\n",
       "13     606.742343  44994.555849            0            0\n",
       "14    1112.968401  23810.174050            0            0\n",
       "15     286.232560  45042.413036            0            0\n",
       "16       0.000000  50265.312354            0            0\n",
       "17     527.540184  17636.539617            0            1\n",
       "18     485.936864  61566.106118            0            0\n",
       "19    1095.072735  26464.631389            0            0\n",
       "20     228.952550  50500.182198            0            0\n",
       "21     954.261793  32457.509075            0            0\n",
       "22    1055.956605  51317.883082            0            0\n",
       "23     641.984389  30466.103257            0            0\n",
       "24     773.211725  34353.314305            0            0\n",
       "25     855.008523  25211.332161            0            0\n",
       "26     642.999739  41473.511801            0            0\n",
       "27    1454.863272  32189.094952            0            0\n",
       "28     615.704277  39376.394619            0            0\n",
       "29    1119.569353  16556.070205            0            1\n",
       "...           ...           ...          ...          ...\n",
       "9970  1294.500408  25687.326050            0            1\n",
       "9971   180.620128  20975.560495            0            1\n",
       "9972   755.432801  14455.865365            0            0\n",
       "9973   876.119027  37668.366788            0            0\n",
       "9974   933.332025  26051.398320            0            1\n",
       "9975   908.315934  21287.942487            0            0\n",
       "9976   218.417559  25401.133121            0            0\n",
       "9977   915.439827  16624.339111            0            1\n",
       "9978  2202.462395  47287.257108            1            0\n",
       "9979   173.249172  30697.245062            0            0\n",
       "9980   770.015741  13684.789952            0            1\n",
       "9981   739.418018  40656.951448            0            0\n",
       "9982   623.526119  59441.309981            0            0\n",
       "9983   506.625454  49861.003411            0            0\n",
       "9984   875.241640  52861.744197            0            0\n",
       "9985   842.949429  39957.127855            0            0\n",
       "9986   401.332674  15332.017833            0            1\n",
       "9987  1092.906583  45479.466985            0            0\n",
       "9988     0.000000  41740.686597            0            0\n",
       "9989   999.281112  20013.350644            0            1\n",
       "9990   372.379239  25374.899085            0            0\n",
       "9991   658.799558  54802.078221            0            0\n",
       "9992  1111.647317  45490.682463            0            0\n",
       "9993   938.836241  56633.448744            0            0\n",
       "9994   172.412987  14955.941689            0            1\n",
       "9995   711.555020  52992.378914            0            0\n",
       "9996   757.962918  19660.721768            0            0\n",
       "9997   845.411989  58636.156984            0            0\n",
       "9998  1569.009053  36669.112365            0            0\n",
       "9999   200.922183  16862.952321            0            1\n",
       "\n",
       "[10000 rows x 4 columns]"
      ]
     },
     "execution_count": 140,
     "metadata": {},
     "output_type": "execute_result"
    }
   ],
   "source": [
    "df = pd.get_dummies(df)\n",
    "df.drop(df.columns[[2, 4]],axis=1, inplace=True)\n",
    "df"
   ]
  },
  {
   "cell_type": "markdown",
   "metadata": {
    "colab_type": "text",
    "id": "pS2CLgkO6NHq"
   },
   "source": [
    "Before starting analysis and modeling, wrangling data by identifying if there is any missing value and checking if there is any wrong data by get a statistical summary of each column."
   ]
  },
  {
   "cell_type": "code",
   "execution_count": 141,
   "metadata": {
    "colab": {
     "base_uri": "https://localhost:8080/",
     "height": 381
    },
    "colab_type": "code",
    "id": "4qT9hg5kmqKD",
    "outputId": "eb49d31c-1e5a-46f2-b060-cec1d5cd3430"
   },
   "outputs": [
    {
     "name": "stdout",
     "output_type": "stream",
     "text": [
      "balance        0\n",
      "income         0\n",
      "default_Yes    0\n",
      "student_Yes    0\n",
      "dtype: int64\n"
     ]
    },
    {
     "data": {
      "text/html": [
       "<div>\n",
       "<style scoped>\n",
       "    .dataframe tbody tr th:only-of-type {\n",
       "        vertical-align: middle;\n",
       "    }\n",
       "\n",
       "    .dataframe tbody tr th {\n",
       "        vertical-align: top;\n",
       "    }\n",
       "\n",
       "    .dataframe thead th {\n",
       "        text-align: right;\n",
       "    }\n",
       "</style>\n",
       "<table border=\"1\" class=\"dataframe\">\n",
       "  <thead>\n",
       "    <tr style=\"text-align: right;\">\n",
       "      <th></th>\n",
       "      <th>balance</th>\n",
       "      <th>income</th>\n",
       "      <th>default_Yes</th>\n",
       "      <th>student_Yes</th>\n",
       "    </tr>\n",
       "  </thead>\n",
       "  <tbody>\n",
       "    <tr>\n",
       "      <th>count</th>\n",
       "      <td>10000.000000</td>\n",
       "      <td>10000.000000</td>\n",
       "      <td>10000.000000</td>\n",
       "      <td>10000.000000</td>\n",
       "    </tr>\n",
       "    <tr>\n",
       "      <th>mean</th>\n",
       "      <td>835.374886</td>\n",
       "      <td>33516.981876</td>\n",
       "      <td>0.033300</td>\n",
       "      <td>0.294400</td>\n",
       "    </tr>\n",
       "    <tr>\n",
       "      <th>std</th>\n",
       "      <td>483.714985</td>\n",
       "      <td>13336.639563</td>\n",
       "      <td>0.179428</td>\n",
       "      <td>0.455795</td>\n",
       "    </tr>\n",
       "    <tr>\n",
       "      <th>min</th>\n",
       "      <td>0.000000</td>\n",
       "      <td>771.967729</td>\n",
       "      <td>0.000000</td>\n",
       "      <td>0.000000</td>\n",
       "    </tr>\n",
       "    <tr>\n",
       "      <th>25%</th>\n",
       "      <td>481.731105</td>\n",
       "      <td>21340.462903</td>\n",
       "      <td>0.000000</td>\n",
       "      <td>0.000000</td>\n",
       "    </tr>\n",
       "    <tr>\n",
       "      <th>50%</th>\n",
       "      <td>823.636973</td>\n",
       "      <td>34552.644802</td>\n",
       "      <td>0.000000</td>\n",
       "      <td>0.000000</td>\n",
       "    </tr>\n",
       "    <tr>\n",
       "      <th>75%</th>\n",
       "      <td>1166.308386</td>\n",
       "      <td>43807.729272</td>\n",
       "      <td>0.000000</td>\n",
       "      <td>1.000000</td>\n",
       "    </tr>\n",
       "    <tr>\n",
       "      <th>max</th>\n",
       "      <td>2654.322576</td>\n",
       "      <td>73554.233495</td>\n",
       "      <td>1.000000</td>\n",
       "      <td>1.000000</td>\n",
       "    </tr>\n",
       "  </tbody>\n",
       "</table>\n",
       "</div>"
      ],
      "text/plain": [
       "            balance        income   default_Yes   student_Yes\n",
       "count  10000.000000  10000.000000  10000.000000  10000.000000\n",
       "mean     835.374886  33516.981876      0.033300      0.294400\n",
       "std      483.714985  13336.639563      0.179428      0.455795\n",
       "min        0.000000    771.967729      0.000000      0.000000\n",
       "25%      481.731105  21340.462903      0.000000      0.000000\n",
       "50%      823.636973  34552.644802      0.000000      0.000000\n",
       "75%     1166.308386  43807.729272      0.000000      1.000000\n",
       "max     2654.322576  73554.233495      1.000000      1.000000"
      ]
     },
     "execution_count": 141,
     "metadata": {},
     "output_type": "execute_result"
    }
   ],
   "source": [
    "print(df[df.isnull()==True].count())\n",
    "df.describe()"
   ]
  },
  {
   "cell_type": "markdown",
   "metadata": {
    "colab_type": "text",
    "id": "JfH6K24B98Rq"
   },
   "source": [
    "It turns out that this dataframe has no missing values and the values in four columns are normal (i.e.no negative numbers in column 'balance' and 'income'). Now we can define X, and y for our dataset."
   ]
  },
  {
   "cell_type": "code",
   "execution_count": 149,
   "metadata": {
    "colab": {
     "base_uri": "https://localhost:8080/",
     "height": 104
    },
    "colab_type": "code",
    "id": "xK4jKXyPCgil",
    "outputId": "7bcf0702-2c22-404c-9ea0-fd0144f71c7c"
   },
   "outputs": [
    {
     "data": {
      "text/plain": [
       "array([[4.43616251e+04, 7.29526495e+02, 0.00000000e+00],\n",
       "       [1.21061347e+04, 8.17180407e+02, 1.00000000e+00],\n",
       "       [3.17671389e+04, 1.07354916e+03, 0.00000000e+00],\n",
       "       [3.57044939e+04, 5.29250605e+02, 0.00000000e+00],\n",
       "       [3.84634959e+04, 7.85655883e+02, 0.00000000e+00]])"
      ]
     },
     "execution_count": 149,
     "metadata": {},
     "output_type": "execute_result"
    }
   ],
   "source": [
    "X = np.asarray(df[['income', 'balance', 'student_Yes']])\n",
    "X[0:5]"
   ]
  },
  {
   "cell_type": "code",
   "execution_count": 150,
   "metadata": {
    "colab": {
     "base_uri": "https://localhost:8080/",
     "height": 35
    },
    "colab_type": "code",
    "id": "2bUyJ2JbCzMo",
    "outputId": "98067999-ec27-4f02-c618-5d9367c7c31a"
   },
   "outputs": [
    {
     "data": {
      "text/plain": [
       "array([0, 0, 0, 0, 0], dtype=uint8)"
      ]
     },
     "execution_count": 150,
     "metadata": {},
     "output_type": "execute_result"
    }
   ],
   "source": [
    "y = np.asarray(df['default_Yes'])\n",
    "y [0:5]"
   ]
  },
  {
   "cell_type": "markdown",
   "metadata": {
    "colab": {},
    "colab_type": "code",
    "id": "8kChSKmyx8PO"
   },
   "source": [
    "Also, we normalize the dataset:"
   ]
  },
  {
   "cell_type": "code",
   "execution_count": 151,
   "metadata": {
    "colab": {
     "base_uri": "https://localhost:8080/",
     "height": 104
    },
    "colab_type": "code",
    "id": "30vgtApKC1by",
    "outputId": "11bdb3eb-bd98-42f9-8f15-1aa61cfbef5d"
   },
   "outputs": [
    {
     "data": {
      "text/plain": [
       "array([[ 0.81318727, -0.21883482, -0.64593619],\n",
       "       [-1.60549572, -0.03761593,  1.54814054],\n",
       "       [-0.13121225,  0.49241019, -0.64593619],\n",
       "       [ 0.16403093, -0.6328925 , -0.64593619],\n",
       "       [ 0.37091513, -0.10279088, -0.64593619]])"
      ]
     },
     "execution_count": 151,
     "metadata": {},
     "output_type": "execute_result"
    }
   ],
   "source": [
    "X = preprocessing.StandardScaler().fit(X).transform(X)\n",
    "X[0:5]"
   ]
  },
  {
   "cell_type": "markdown",
   "metadata": {
    "colab": {},
    "colab_type": "code",
    "id": "jZSlDcVCx7Wa"
   },
   "source": [
    "#### Train/Test dataset"
   ]
  },
  {
   "cell_type": "markdown",
   "metadata": {
    "colab": {},
    "colab_type": "code",
    "id": "gXsTCKO4x7SG"
   },
   "source": [
    "Split the dataset into train and test set:"
   ]
  },
  {
   "cell_type": "code",
   "execution_count": 152,
   "metadata": {
    "colab": {
     "base_uri": "https://localhost:8080/",
     "height": 52
    },
    "colab_type": "code",
    "id": "maAPuGtOC3Rk",
    "outputId": "d42173d9-5737-484d-9627-d1837a89ddd3"
   },
   "outputs": [
    {
     "name": "stdout",
     "output_type": "stream",
     "text": [
      "Train set: (7000, 3) (7000,)\n",
      "Test set: (3000, 3) (3000,)\n"
     ]
    }
   ],
   "source": [
    "X_train, X_test, y_train, y_test = train_test_split( X, y, test_size=0.3, random_state=2)\n",
    "print ('Train set:', X_train.shape,  y_train.shape)\n",
    "print ('Test set:', X_test.shape,  y_test.shape)"
   ]
  },
  {
   "cell_type": "markdown",
   "metadata": {
    "colab": {},
    "colab_type": "code",
    "id": "AvdStg5zt7cT"
   },
   "source": [
    "### Modeling (Logistic Regression with Scikit-learn)"
   ]
  },
  {
   "cell_type": "markdown",
   "metadata": {
    "colab": {},
    "colab_type": "code",
    "id": "JLZVrxInt7ce"
   },
   "source": [
    "Build our model using LogisticRegression from Scikit-learn package. This function implements logistic regression and can use different numerical optimizers to find parameters, including ‘newton-cg’, ‘lbfgs’, ‘liblinear’, ‘sag’, ‘saga’ solvers. Here the solver 'liblinear' is used due to the scale of the dataset. Now fit our model with train set:"
   ]
  },
  {
   "cell_type": "code",
   "execution_count": 153,
   "metadata": {
    "colab": {
     "base_uri": "https://localhost:8080/",
     "height": 104
    },
    "colab_type": "code",
    "id": "HWCNnqjzC5m0",
    "outputId": "7d01b836-9baf-4270-e89f-2738b6564324"
   },
   "outputs": [
    {
     "data": {
      "text/plain": [
       "LogisticRegression(C=0.01, class_weight=None, dual=False, fit_intercept=True,\n",
       "          intercept_scaling=1, max_iter=100, multi_class='ovr', n_jobs=1,\n",
       "          penalty='l2', random_state=None, solver='liblinear', tol=0.0001,\n",
       "          verbose=0, warm_start=False)"
      ]
     },
     "execution_count": 153,
     "metadata": {},
     "output_type": "execute_result"
    }
   ],
   "source": [
    "LR = LogisticRegression(C=0.01, solver='liblinear').fit(X_train,y_train)\n",
    "LR"
   ]
  },
  {
   "cell_type": "markdown",
   "metadata": {},
   "source": [
    "Now we can predict using our test set:"
   ]
  },
  {
   "cell_type": "code",
   "execution_count": 154,
   "metadata": {
    "colab": {
     "base_uri": "https://localhost:8080/",
     "height": 35
    },
    "colab_type": "code",
    "id": "jGyRwvq2C7iw",
    "outputId": "3e24c6d7-465d-401b-e64a-82b68cebcbc8"
   },
   "outputs": [
    {
     "data": {
      "text/plain": [
       "array([0, 0, 0, ..., 0, 0, 0], dtype=uint8)"
      ]
     },
     "execution_count": 154,
     "metadata": {},
     "output_type": "execute_result"
    }
   ],
   "source": [
    "yhat = LR.predict(X_test)\n",
    "yhat"
   ]
  },
  {
   "cell_type": "markdown",
   "metadata": {},
   "source": [
    "__predict_proba__ returns estimates for all classes, ordered by the label of classes. So, the first column is the probability of class 1, P(Y=1|X), and second column is probability of class 0, P(Y=0|X):"
   ]
  },
  {
   "cell_type": "code",
   "execution_count": 155,
   "metadata": {
    "colab": {
     "base_uri": "https://localhost:8080/",
     "height": 139
    },
    "colab_type": "code",
    "id": "-ngFyptyC9Gm",
    "outputId": "99a594fa-d11c-4a60-ec4b-b49490fcb86d"
   },
   "outputs": [
    {
     "data": {
      "text/plain": [
       "array([[0.95240624, 0.04759376],\n",
       "       [0.94934741, 0.05065259],\n",
       "       [0.95950125, 0.04049875],\n",
       "       ...,\n",
       "       [0.87913474, 0.12086526],\n",
       "       [0.98455597, 0.01544403],\n",
       "       [0.91853669, 0.08146331]])"
      ]
     },
     "execution_count": 155,
     "metadata": {},
     "output_type": "execute_result"
    }
   ],
   "source": [
    "yhat_prob = LR.predict_proba(X_test)\n",
    "yhat_prob"
   ]
  },
  {
   "cell_type": "markdown",
   "metadata": {
    "colab": {},
    "colab_type": "code",
    "id": "rXkdYrubt7cq"
   },
   "source": [
    "### Evaluation (Confusion Matrix)"
   ]
  },
  {
   "cell_type": "code",
   "execution_count": 156,
   "metadata": {
    "colab": {
     "base_uri": "https://localhost:8080/",
     "height": 52
    },
    "colab_type": "code",
    "id": "9TA8M6WKC-3H",
    "outputId": "2c674ef9-e433-4d2d-9f5b-3e0924914c63"
   },
   "outputs": [
    {
     "name": "stdout",
     "output_type": "stream",
     "text": [
      "[[   1   75]\n",
      " [   0 2924]]\n"
     ]
    }
   ],
   "source": [
    "def plot_confusion_matrix(cm, classes,\n",
    "                          normalize=False,\n",
    "                          title='Confusion matrix',\n",
    "                          cmap=plt.cm.Blues):\n",
    "    \"\"\"\n",
    "    This function prints and plots the confusion matrix.\n",
    "    Normalization can be applied by setting `normalize=True`.\n",
    "    \"\"\"\n",
    "    if normalize:\n",
    "        cm = cm.astype('float') / cm.sum(axis=1)[:, np.newaxis]\n",
    "        print(\"Normalized confusion matrix\")\n",
    "    else:\n",
    "        print('Confusion matrix, without normalization')\n",
    "\n",
    "    print(cm)\n",
    "\n",
    "    plt.imshow(cm, interpolation='nearest', cmap=cmap)\n",
    "    plt.title(title)\n",
    "    plt.colorbar()\n",
    "    tick_marks = np.arange(len(classes))\n",
    "    plt.xticks(tick_marks, classes, rotation=45)\n",
    "    plt.yticks(tick_marks, classes)\n",
    "\n",
    "    fmt = '.2f' if normalize else 'd'\n",
    "    thresh = cm.max() / 2.\n",
    "    for i, j in itertools.product(range(cm.shape[0]), range(cm.shape[1])):\n",
    "        plt.text(j, i, format(cm[i, j], fmt),\n",
    "                 horizontalalignment=\"center\",\n",
    "                 color=\"white\" if cm[i, j] > thresh else \"black\")\n",
    "\n",
    "    plt.tight_layout()\n",
    "    plt.ylabel('True label')\n",
    "    plt.xlabel('Predicted label')\n",
    "print(confusion_matrix(y_test, yhat, labels=[1,0]))"
   ]
  },
  {
   "cell_type": "code",
   "execution_count": 171,
   "metadata": {
    "colab": {
     "base_uri": "https://localhost:8080/",
     "height": 363
    },
    "colab_type": "code",
    "id": "RD0WA2svDGlL",
    "outputId": "0251643d-e65a-4a6d-d6e8-3e3f2dd638a3"
   },
   "outputs": [
    {
     "name": "stdout",
     "output_type": "stream",
     "text": [
      "Confusion matrix, without normalization\n",
      "[[   1   75]\n",
      " [   0 2924]]\n"
     ]
    },
    {
     "data": {
      "image/png": "[encoded data removed]",
      "text/plain": [
       "<Figure size 432x288 with 2 Axes>"
      ]
     },
     "metadata": {},
     "output_type": "display_data"
    }
   ],
   "source": [
    "# Compute confusion matrix\n",
    "cnf_matrix = confusion_matrix(y_test, yhat, labels=[1,0])\n",
    "np.set_printoptions(precision=2)\n",
    "\n",
    "\n",
    "# Plot non-normalized confusion matrix\n",
    "plt.figure()\n",
    "plot_confusion_matrix(cnf_matrix, classes=['default=Yes','default=No'],normalize= False,  title='Confusion matrix')"
   ]
  },
  {
   "cell_type": "markdown",
   "metadata": {},
   "source": [
    "The first row is for borrowers whose actual default value in test set is 1. As you can calculate, out of 3000 borrowers, the default value of 76 of them is 1. And out of these 76, the classifier correctly predicted 1 of them as 1, and 75 of them as 0.\n",
    "\n",
    "It means, for 1 borrowers, the actual default value were 1 in test set, and classifier also correctly predicted those as 1. However, while the actual label of 75 borrowers were 1, the classifier predicted those as 0, which is not very good. We can consider it as error of the model for first row. \n",
    "\n",
    "What about the borrowers with default value 0? Lets look at the second row. It looks like there were 2924 borrowers whom their default value were 0. The classifier correctly predicted 2924 of them as 0, and none of them wrongly as 1. So, it has done a good job in predicting the borrowers with default value 0."
   ]
  },
  {
   "cell_type": "code",
   "execution_count": 158,
   "metadata": {
    "colab": {
     "base_uri": "https://localhost:8080/",
     "height": 173
    },
    "colab_type": "code",
    "id": "0AIURQJYDJDs",
    "outputId": "d62be2bc-7551-472a-b903-98c884142528"
   },
   "outputs": [
    {
     "name": "stdout",
     "output_type": "stream",
     "text": [
      "             precision    recall  f1-score   support\n",
      "\n",
      "          0       0.97      1.00      0.99      2924\n",
      "          1       1.00      0.01      0.03        76\n",
      "\n",
      "avg / total       0.98      0.97      0.96      3000\n",
      "\n"
     ]
    }
   ],
   "source": [
    "print (classification_report(y_test, yhat))"
   ]
  },
  {
   "cell_type": "markdown",
   "metadata": {},
   "source": [
    "Based on the count of each section, we can calculate precision and recall of each label:\n",
    "\n",
    "Precision is a measure of the accuracy provided that a class label has been predicted. It is defined by: precision = TP / (TP + FP)\n",
    "\n",
    "Recall is true positive rate. It is defined as: Recall = TP / (TP + FN)\n",
    "\n",
    "So, we can calculate precision and recall of each class."
   ]
  },
  {
   "cell_type": "markdown",
   "metadata": {},
   "source": [
    "------------------------------------------------------------------------------------------------------------------------------\n",
    "\n",
    "\n",
    "The calculation above demonstrated a normal logistic regression modeling process, which is based on a default threshold: 0.5. However, our target is to block borrowers who cannot repay the loan rather than losing potential clients. Now we do this by adjusting the threshold. Here I illustrate all confusion matrices with threshold from 0.1 to 0.9."
   ]
  },
  {
   "cell_type": "code",
   "execution_count": 160,
   "metadata": {
    "colab": {
     "base_uri": "https://localhost:8080/",
     "height": 1000
    },
    "colab_type": "code",
    "id": "YfQUxbHJQa2u",
    "outputId": "af5c56fc-fa21-4e8f-c22c-56f3b1b06678"
   },
   "outputs": [
    {
     "name": "stdout",
     "output_type": "stream",
     "text": [
      "Recall metric in the testing dataset:  0.9473684210526315\n",
      "Confusion matrix, without normalization\n",
      "[[2275  649]\n",
      " [   4   72]]\n",
      "Recall metric in the testing dataset:  0.631578947368421\n",
      "Confusion matrix, without normalization\n",
      "[[2814  110]\n",
      " [  28   48]]\n",
      "Recall metric in the testing dataset:  0.23684210526315788\n",
      "Confusion matrix, without normalization\n",
      "[[2914   10]\n",
      " [  58   18]]\n",
      "Recall metric in the testing dataset:  0.039473684210526314\n",
      "Confusion matrix, without normalization\n",
      "[[2922    2]\n",
      " [  73    3]]\n",
      "Recall metric in the testing dataset:  0.013157894736842105\n",
      "Confusion matrix, without normalization\n",
      "[[2924    0]\n",
      " [  75    1]]\n",
      "Recall metric in the testing dataset:  0.0\n",
      "Confusion matrix, without normalization\n",
      "[[2924    0]\n",
      " [  76    0]]\n",
      "Recall metric in the testing dataset:  0.0\n",
      "Confusion matrix, without normalization\n",
      "[[2924    0]\n",
      " [  76    0]]\n",
      "Recall metric in the testing dataset:  0.0\n",
      "Confusion matrix, without normalization\n",
      "[[2924    0]\n",
      " [  76    0]]\n",
      "Recall metric in the testing dataset:  0.0\n",
      "Confusion matrix, without normalization\n",
      "[[2924    0]\n",
      " [  76    0]]\n"
     ]
    },
    {
     "data": {
      "image/png": "[encoded data removed]",
      "text/plain": [
       "<Figure size 720x720 with 18 Axes>"
      ]
     },
     "metadata": {},
     "output_type": "display_data"
    }
   ],
   "source": [
    "lr = LogisticRegression(C = 0.01,  solver='liblinear')\n",
    "lr.fit(X_train,y_train)\n",
    "Y_pred_proba = lr.predict_proba(X_test)\n",
    "\n",
    "thresholds = [0.1,0.2,0.3,0.4,0.5,0.6,0.7,0.8,0.9]\n",
    "\n",
    "plt.figure(figsize=(10,10))\n",
    "\n",
    "j = 1\n",
    "for i in thresholds:\n",
    "    Y_test_predictions_high_recall = Y_pred_proba[:,1] > i\n",
    "    \n",
    "    plt.subplot(3,3,j)\n",
    "    j += 1\n",
    "    \n",
    "    # Compute confusion matrix\n",
    "    cnf_matrix = confusion_matrix(y_test,Y_test_predictions_high_recall)\n",
    "    np.set_printoptions(precision=2)\n",
    "\n",
    "    print(\"Recall metric in the testing dataset: \", cnf_matrix[1,1]/(cnf_matrix[1,0]+cnf_matrix[1,1]))\n",
    "\n",
    "    # Plot non-normalized confusion matrix\n",
    "    class_names = [0,1]\n",
    "    plot_confusion_matrix(cnf_matrix\n",
    "                          , classes=class_names\n",
    "                          , title='Threshold >= %s'%i) \n",
    "plt.savefig(\"threshold_nonpen.jpg\")"
   ]
  },
  {
   "cell_type": "code",
   "execution_count": 165,
   "metadata": {},
   "outputs": [
    {
     "name": "stdout",
     "output_type": "stream",
     "text": [
      "Threshold=0.1\n",
      "             precision    recall  f1-score   support\n",
      "\n",
      "          0       1.00      0.78      0.87      2924\n",
      "          1       0.10      0.95      0.18        76\n",
      "\n",
      "avg / total       0.98      0.78      0.86      3000\n",
      "\n",
      "Accuracy when threshold = 0.1:  0.7823333333333333\n",
      "---------------------------------------------------------\n",
      "Threshold=0.2\n",
      "             precision    recall  f1-score   support\n",
      "\n",
      "          0       0.99      0.96      0.98      2924\n",
      "          1       0.30      0.63      0.41        76\n",
      "\n",
      "avg / total       0.97      0.95      0.96      3000\n",
      "\n",
      "Accuracy when threshold = 0.2:  0.954\n"
     ]
    }
   ],
   "source": [
    "Y_test_predictions_high_recall = Y_pred_proba[:,1] > 0.1\n",
    "print ('Threshold=0.1')\n",
    "print(classification_report(y_test, Y_test_predictions_high_recall))\n",
    "print('Accuracy when threshold = 0.1: ',metrics.accuracy_score(y_test, Y_test_predictions_high_recall))\n",
    "Y_test_predictions_high_recall = Y_pred_proba[:,1] > 0.2\n",
    "print('---------------------------------------------------------')\n",
    "print ('Threshold=0.2')\n",
    "print(classification_report(y_test, Y_test_predictions_high_recall))\n",
    "print('Accuracy when threshold = 0.2: ',metrics.accuracy_score(y_test, Y_test_predictions_high_recall))"
   ]
  },
  {
   "cell_type": "markdown",
   "metadata": {},
   "source": [
    "In dealing with larger dataset, we can add a paremeter __penalty = 'l2'__ in LogisticRegression(),which is used to avoid overfits to improve the generalization of functions."
   ]
  },
  {
   "cell_type": "code",
   "execution_count": 159,
   "metadata": {
    "colab": {
     "base_uri": "https://localhost:8080/",
     "height": 1000
    },
    "colab_type": "code",
    "id": "Dvw6AUvKKiD1",
    "outputId": "acea767a-b112-47f3-94ec-c8df61f0a2da"
   },
   "outputs": [
    {
     "name": "stdout",
     "output_type": "stream",
     "text": [
      "Recall metric in the testing dataset:  0.9473684210526315\n",
      "Confusion matrix, without normalization\n",
      "[[2275  649]\n",
      " [   4   72]]\n",
      "Recall metric in the testing dataset:  0.631578947368421\n",
      "Confusion matrix, without normalization\n",
      "[[2814  110]\n",
      " [  28   48]]\n",
      "Recall metric in the testing dataset:  0.23684210526315788\n",
      "Confusion matrix, without normalization\n",
      "[[2914   10]\n",
      " [  58   18]]\n",
      "Recall metric in the testing dataset:  0.039473684210526314\n",
      "Confusion matrix, without normalization\n",
      "[[2922    2]\n",
      " [  73    3]]\n",
      "Recall metric in the testing dataset:  0.013157894736842105\n",
      "Confusion matrix, without normalization\n",
      "[[2924    0]\n",
      " [  75    1]]\n",
      "Recall metric in the testing dataset:  0.0\n",
      "Confusion matrix, without normalization\n",
      "[[2924    0]\n",
      " [  76    0]]\n",
      "Recall metric in the testing dataset:  0.0\n",
      "Confusion matrix, without normalization\n",
      "[[2924    0]\n",
      " [  76    0]]\n",
      "Recall metric in the testing dataset:  0.0\n",
      "Confusion matrix, without normalization\n",
      "[[2924    0]\n",
      " [  76    0]]\n",
      "Recall metric in the testing dataset:  0.0\n",
      "Confusion matrix, without normalization\n",
      "[[2924    0]\n",
      " [  76    0]]\n"
     ]
    },
    {
     "data": {
      "image/png": "[encoded data removed]",
      "text/plain": [
       "<Figure size 720x720 with 18 Axes>"
      ]
     },
     "metadata": {},
     "output_type": "display_data"
    }
   ],
   "source": [
    "#lr = LogisticRegression(C = 0.01, penalty = 'l2')\n",
    "#lr.fit(X_train,y_train)\n",
    "#Y_pred_proba = lr.predict_proba(X_test)\n",
    "\n",
    "#thresholds = [0.1,0.2,0.3,0.4,0.5,0.6,0.7,0.8,0.9]\n",
    "\n",
    "#plt.figure(figsize=(10,10))\n",
    "\n",
    "#j = 1\n",
    "#for i in thresholds:\n",
    "    #Y_test_predictions_high_recall = Y_pred_proba[:,1] > i\n",
    "    \n",
    "    #plt.subplot(3,3,j)\n",
    "    #j += 1\n",
    "    \n",
    "    # Compute confusion matrix\n",
    "    #cnf_matrix = confusion_matrix(y_test,Y_test_predictions_high_recall)\n",
    "    #np.set_printoptions(precision=2)\n",
    "\n",
    "    #print(\"Recall metric in the testing dataset: \", cnf_matrix[1,1]/(cnf_matrix[1,0]+cnf_matrix[1,1]))\n",
    "\n",
    "    # Plot non-normalized confusion matrix\n",
    "    class_names = [0,1]\n",
    "    plot_confusion_matrix(cnf_matrix\n",
    "                          , classes=class_names\n",
    "                          , title='Threshold >= %s'%i) \n",
    "#plt.savefig(\"threshold cm.jpg\")"
   ]
  }
 ],
 "metadata": {
  "colab": {
   "collapsed_sections": [],
   "name": "report.ipynb",
   "provenance": []
  },
  "kernelspec": {
   "display_name": "Python 3",
   "language": "python",
   "name": "python3"
  },
  "language_info": {
   "codemirror_mode": {
    "name": "ipython",
    "version": 3
   },
   "file_extension": ".py",
   "mimetype": "text/x-python",
   "name": "python",
   "nbconvert_exporter": "python",
   "pygments_lexer": "ipython3",
   "version": "3.6.5"
  }
 },
 "nbformat": 4,
 "nbformat_minor": 1
}
